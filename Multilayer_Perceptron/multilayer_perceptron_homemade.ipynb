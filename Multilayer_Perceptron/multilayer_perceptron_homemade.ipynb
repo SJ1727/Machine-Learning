{
 "cells": [
  {
   "cell_type": "code",
   "execution_count": 1,
   "metadata": {},
   "outputs": [
    {
     "name": "stderr",
     "output_type": "stream",
     "text": [
      "C:\\Users\\samue\\AppData\\Local\\Temp\\ipykernel_24148\\827387922.py:4: DeprecationWarning: \n",
      "Pyarrow will become a required dependency of pandas in the next major release of pandas (pandas 3.0),\n",
      "(to allow more performant data types, such as the Arrow string type, and better interoperability with other libraries)\n",
      "but was not found to be installed on your system.\n",
      "If this would cause problems for you,\n",
      "please provide us feedback at https://github.com/pandas-dev/pandas/issues/54466\n",
      "        \n",
      "  import pandas as pd\n"
     ]
    }
   ],
   "source": [
    "import homemade_tensors as ht\n",
    "from multilayer_perceptron import MultilayerPerceptron\n",
    "import numpy as np\n",
    "import pandas as pd\n",
    "import warnings\n",
    "\n",
    "warnings.filterwarnings(\"ignore\")"
   ]
  },
  {
   "cell_type": "code",
   "execution_count": 2,
   "metadata": {},
   "outputs": [],
   "source": [
    "TEST_SIZE = 1\n",
    "BATCH_SIZE = 64\n",
    "EPOCHS = 20\n",
    "LEARNING_RATE = 1e-3"
   ]
  },
  {
   "cell_type": "markdown",
   "metadata": {},
   "source": [
    "## Loading data\n",
    "\n",
    "You can download the mnist dataset from [here](https://www.kaggle.com/datasets/oddrationale/mnist-in-csv)"
   ]
  },
  {
   "cell_type": "code",
   "execution_count": 3,
   "metadata": {},
   "outputs": [],
   "source": [
    "train_df = pd.read_csv(\"../data/mnist_train.csv\")[:2000]  \n",
    "test_df = pd.read_csv(\"../data/mnist_train.csv\")[:1000]  "
   ]
  },
  {
   "cell_type": "code",
   "execution_count": 4,
   "metadata": {},
   "outputs": [],
   "source": [
    "train_labels = np.eye(10)[train_df[\"label\"].to_numpy()]\n",
    "train_labels = [\n",
    "    ht.Tensor(\n",
    "        np.array(train_labels[i:i + BATCH_SIZE][:, np.newaxis, :])\n",
    "    )\n",
    "    for i in range(0, len(train_labels), BATCH_SIZE)\n",
    "]\n",
    "train_data = train_df.drop([\"label\"], axis=1).to_numpy() / 255\n",
    "train_data = [\n",
    "    ht.Tensor(\n",
    "        np.array(train_data[i:i + BATCH_SIZE][:, np.newaxis, :])\n",
    "    )\n",
    "    for i in range(0, len(train_data), BATCH_SIZE)\n",
    "]\n",
    "\n",
    "test_labels = np.eye(10)[test_df[\"label\"].to_numpy()]\n",
    "test_labels = [\n",
    "    ht.Tensor(\n",
    "        np.array(test_labels[i:i + TEST_SIZE][:, np.newaxis, :])\n",
    "    )\n",
    "    for i in range(0, len(test_labels), TEST_SIZE)\n",
    "]\n",
    "\n",
    "test_data = test_df.drop([\"label\"], axis=1).to_numpy() / 255\n",
    "test_data = [\n",
    "    ht.Tensor(\n",
    "        np.array(test_data[i:i + TEST_SIZE][:, np.newaxis, :])\n",
    "    )\n",
    "    for i in range(0, len(test_data), TEST_SIZE)\n",
    "]"
   ]
  },
  {
   "cell_type": "code",
   "execution_count": 5,
   "metadata": {},
   "outputs": [
    {
     "name": "stdout",
     "output_type": "stream",
     "text": [
      "Epoch 1 Loss: 3.686778340788532\n",
      "Epoch 2 Loss: 3.6860088892000102\n",
      "Epoch 3 Loss: 3.6795478276362616\n",
      "Epoch 4 Loss: 3.6451499604765303\n",
      "Epoch 5 Loss: 3.5698996756824224\n",
      "Epoch 6 Loss: 3.474404205905988\n",
      "Epoch 7 Loss: 3.3740996962555556\n",
      "Epoch 8 Loss: 3.3046981219695746\n",
      "Epoch 9 Loss: 3.2471690516537928\n",
      "Epoch 10 Loss: 3.1873949510723465\n",
      "Epoch 11 Loss: 3.129209555892995\n",
      "Epoch 12 Loss: 3.0832120450431706\n",
      "Epoch 13 Loss: 3.0430067072369194\n",
      "Epoch 14 Loss: 3.004682949006284\n",
      "Epoch 15 Loss: 2.9695227879534656\n",
      "Epoch 16 Loss: 2.935334440004766\n",
      "Epoch 17 Loss: 2.8998965625094684\n",
      "Epoch 18 Loss: 2.865663038566637\n",
      "Epoch 19 Loss: 2.8322130781960233\n",
      "Epoch 20 Loss: 2.7934870321165137\n"
     ]
    }
   ],
   "source": [
    "net = MultilayerPerceptron()\n",
    "\n",
    "for epoch in range(EPOCHS):\n",
    "    for label, image in zip(train_labels, train_data):\n",
    "        result = net.forward(image)\n",
    "        loss = ht.CrossEntropyLoss()(result, label)\n",
    "        loss.backward()\n",
    "        net.update_parameters(lr=LEARNING_RATE)\n",
    "    print(f\"Epoch {epoch + 1} Loss: {-1 / 10 * loss.data}\")"
   ]
  },
  {
   "cell_type": "code",
   "execution_count": 6,
   "metadata": {},
   "outputs": [
    {
     "name": "stdout",
     "output_type": "stream",
     "text": [
      "Accuracy: 84.6%\n"
     ]
    }
   ],
   "source": [
    "correct = 0\n",
    "for label, image in zip(test_labels, test_data):\n",
    "    result = net.forward(image)\n",
    "    prediciton = np.argmax(result.data, axis=-1)\n",
    "    correct += np.count_nonzero(prediciton == np.argmax(label.data, axis=-1))\n",
    "\n",
    "print(f\"Accuracy: {correct / len(test_data) * 100}%\")"
   ]
  }
 ],
 "metadata": {
  "kernelspec": {
   "display_name": "venv",
   "language": "python",
   "name": "python3"
  },
  "language_info": {
   "codemirror_mode": {
    "name": "ipython",
    "version": 3
   },
   "file_extension": ".py",
   "mimetype": "text/x-python",
   "name": "python",
   "nbconvert_exporter": "python",
   "pygments_lexer": "ipython3",
   "version": "3.11.6"
  }
 },
 "nbformat": 4,
 "nbformat_minor": 2
}
