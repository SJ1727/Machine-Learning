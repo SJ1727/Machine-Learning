{
 "cells": [
  {
   "cell_type": "markdown",
   "metadata": {},
   "source": [
    "# Density-based spatial clustering of applications with noise (DBSCAN)"
   ]
  },
  {
   "cell_type": "code",
   "execution_count": null,
   "metadata": {},
   "outputs": [],
   "source": [
    "import sys\n",
    "sys.path.append(\"../\")\n",
    "\n",
    "import numpy as np\n",
    "import pandas as pd\n",
    "import matplotlib.pyplot as plt\n",
    "from PCA.pca import calculate_principal_components, project_onto_components\n",
    "import warnings\n",
    "\n",
    "warnings.filterwarnings(\"ignore\")\n",
    "INF = sys.maxsize"
   ]
  },
  {
   "cell_type": "code",
   "execution_count": null,
   "metadata": {},
   "outputs": [],
   "source": [
    "# Loading our dataset using pandas\n",
    "df = pd.read_csv(\"../data/iris.csv\")\n",
    "\n",
    "# Splitting data\n",
    "outcomes = np.array(df[\"species\"].map({species: i for i, species in enumerate(df[\"species\"].unique())}))\n",
    "data = np.array(df.drop([\"species\"], axis=1).values)\n",
    "\n",
    "# Normilizing data\n",
    "data = (data - np.mean(data, axis=0)) / np.std(data, axis=0)\n",
    "\n",
    "print(f\"Mean of each column: {np.mean(data, axis=0)}\\n\")\n",
    "print(f\"Standard deviation of each column: {np.std(data, axis=0)}\")"
   ]
  },
  {
   "cell_type": "code",
   "execution_count": null,
   "metadata": {},
   "outputs": [],
   "source": [
    "def get_neighbours(data, index, min_distance):\n",
    "    neighbours = []\n",
    "    p = data[index]\n",
    "\n",
    "    for i, q in enumerate(data):\n",
    "        if p is not q:\n",
    "            if np.linalg.norm(p - q) < min_distance:\n",
    "                neighbours.append(i)\n",
    "\n",
    "    return neighbours"
   ]
  },
  {
   "cell_type": "code",
   "execution_count": null,
   "metadata": {},
   "outputs": [],
   "source": [
    "def dbscan(data, min_number_of_neighbours, min_distance):\n",
    "    number_of_classes = 1\n",
    "    \n",
    "    classification = np.zeros(data.shape[0])\n",
    "    for i in range(data.shape[0]):\n",
    "        if classification[i] != 0:\n",
    "            continue\n",
    "\n",
    "        n = get_neighbours(data, i, min_distance)\n",
    "        if len (n) < min_number_of_neighbours: \n",
    "            continue\n",
    "\n",
    "        # Find and classify the points in the cluster\n",
    "        s = [*n]\n",
    "        while s != []:\n",
    "\n",
    "            # Ignore the point if it has already been classified\n",
    "            if classification[s[0]] != 0:\n",
    "                s.pop(0)\n",
    "                continue\n",
    "\n",
    "            # Get the neighbours and set the class of the point to the current class\n",
    "            n = get_neighbours(data, s[0], min_distance)\n",
    "            classification[s[0]] = number_of_classes\n",
    "            s.pop(0)\n",
    "\n",
    "            # Do not search neighbours if point has less neighbours than required amount of neighbours\n",
    "            if len(n) < min_number_of_neighbours:\n",
    "                continue\n",
    "\n",
    "            # If it has the required amount of neighbours add the neighbours to the list of point to be searched\n",
    "            s.extend(n)\n",
    "\n",
    "        number_of_classes += 1\n",
    "\n",
    "    return classification"
   ]
  },
  {
   "cell_type": "code",
   "execution_count": null,
   "metadata": {},
   "outputs": [],
   "source": [
    "classifications = dbscan(data, 5, 1)"
   ]
  },
  {
   "cell_type": "code",
   "execution_count": null,
   "metadata": {},
   "outputs": [],
   "source": [
    "components, _ = calculate_principal_components(data, components=2)\n",
    "projected_data = project_onto_components(data, components)"
   ]
  },
  {
   "cell_type": "code",
   "execution_count": null,
   "metadata": {},
   "outputs": [],
   "source": [
    "plt.xlabel(f\"Principal Component 1\")\n",
    "plt.ylabel(f\"Principal Component 2\")\n",
    "plt.scatter(projected_data[:, 0], projected_data[:, 1], c=classifications, s=10)\n",
    "\n",
    "plt.show()"
   ]
  }
 ],
 "metadata": {
  "kernelspec": {
   "display_name": "venv",
   "language": "python",
   "name": "python3"
  },
  "language_info": {
   "codemirror_mode": {
    "name": "ipython",
    "version": 3
   },
   "file_extension": ".py",
   "mimetype": "text/x-python",
   "name": "python",
   "nbconvert_exporter": "python",
   "pygments_lexer": "ipython3",
   "version": "3.11.6"
  }
 },
 "nbformat": 4,
 "nbformat_minor": 2
}
