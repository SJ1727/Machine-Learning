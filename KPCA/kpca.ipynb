{
 "cells": [
  {
   "cell_type": "markdown",
   "metadata": {},
   "source": [
    "# Kernel Principal Component Analysis (KPCA)"
   ]
  },
  {
   "cell_type": "code",
   "execution_count": null,
   "metadata": {},
   "outputs": [],
   "source": [
    "import numpy as np\n",
    "import pandas as pd\n",
    "import matplotlib.pyplot as plt\n",
    "import warnings\n",
    "\n",
    "warnings.filterwarnings(\"ignore\")"
   ]
  },
  {
   "cell_type": "code",
   "execution_count": null,
   "metadata": {},
   "outputs": [],
   "source": [
    "df = pd.read_csv(\"../data/Diabetes.csv\")\n",
    "\n",
    "# Renaming the columns\n",
    "column_renames = {\n",
    "    \"Number of times pregnant\": \"Number_Pregnant\",\n",
    "    \"Plasma glucose concentration a 2 hours in an oral glucose tolerance test\": \"Glucose_Concentration\",\n",
    "    \"Diastolic blood pressure (mm Hg)\": \"Blood_Pressure\",\n",
    "    \"Triceps skin fold thickness (mm)\": \"Skin_Thickness\",\n",
    "    \"2-Hour serum insulin (mu U/ml)\": \"Serum_insulin\",\n",
    "    \"Body mass index (weight in kg/(height in m)^2)\": \"BMI\",\n",
    "    \"Diabetes pedigree function\": \"Diabetes_pedigree_function\",\n",
    "    \"Age (years)\": \"Age\",\n",
    "    \"Class variable (0 or 1)\": \"Diabetes\",\n",
    "}\n",
    "\n",
    "df = df.rename(columns=column_renames)\n",
    "\n",
    "# Remove these columns since too many missing entries to perform KPCA on \n",
    "df = df.drop([\"Serum_insulin\"], axis=1)\n",
    "df = df.drop([\"Skin_Thickness\"], axis=1)\n",
    "\n",
    "train = df.sample(frac=0.8, random_state=0)\n",
    "test = df.drop(train.index)\n",
    "\n",
    "train_data = train.drop([\"Diabetes\"], axis=1).to_numpy()\n",
    "train_outcome = test[\"Diabetes\"].to_numpy()\n",
    "\n",
    "test_data = test.drop([\"Diabetes\"], axis=1).to_numpy()\n",
    "test_outcome = test[\"Diabetes\"].to_numpy()\n",
    "\n",
    "# Normilizing data\n",
    "train_data = (train_data - np.mean(train_data, axis=0)) / np.std(train_data, axis=0)\n",
    "test_data = (test_data - np.mean(test_data, axis=0)) / np.std(test_data, axis=0)\n",
    "\n",
    "print(f\"Mean of each column: {np.mean(train_data, axis=0)}\\n\")\n",
    "print(f\"Standard deviation of each column: {np.std(train_data, axis=0)}\")"
   ]
  },
  {
   "cell_type": "markdown",
   "metadata": {},
   "source": [
    "## Calculating the components using KPCA\n",
    "\n",
    "When calculating the kernel matrix which will be used to find the components, we will be using the gaussian kernel which is defined as $e^{-\\gamma\\|a-b\\|^2}$, where $\\gamma$ is a free parameter. The gaussian kernel is the most popular and usually best performing kernel but there are other kernel such as the sigmoid kernel or polynomial kernel.\n",
    "\n",
    "Formula used to center kernal matrix:\n",
    "\n",
    "$\\bar{K}(x_i, x_j)=K(x_i, x_j) - \\frac{1}{d}\\displaystyle\\sum_{k=1} ^{d} K(x_i, x_k) - \\frac{1}{d}\\displaystyle\\sum_{k=1} ^{d} K(x_i, x_k) - \\frac{1}{d^2}\\displaystyle\\sum_{l,k=1} ^{d} K(x_l, x_k)$"
   ]
  },
  {
   "cell_type": "code",
   "execution_count": null,
   "metadata": {},
   "outputs": [],
   "source": [
    "def gaussian_kernel(a, b, gamma):\n",
    "    return np.exp(-gamma * (np.linalg.norm(a - b) ** 2))"
   ]
  },
  {
   "cell_type": "code",
   "execution_count": null,
   "metadata": {},
   "outputs": [],
   "source": [
    "def calculate_kernelPCA(data, n_components=None, gamma=None):\n",
    "    threshold = 1e-10\n",
    "\n",
    "    if gamma is None:\n",
    "        gamma = 1 / data.shape[1]\n",
    "\n",
    "    # Calculate the kernal metrix using the provided kernel function\n",
    "    kernel_matrix = np.array([[gaussian_kernel(d1, d2, gamma) for d1 in data] for d2 in data])\n",
    "\n",
    "    # Centering the kernel matrix\n",
    "    kernel_matrix = kernel_matrix - np.mean(kernel_matrix, axis=1)[:, np.newaxis] - np.mean(kernel_matrix, axis=0) - np.mean(kernel_matrix)\n",
    "\n",
    "    # Calculate the eigenvalues and eigenvectors \n",
    "    eigenvalues, eigenvectors = np.linalg.eig(kernel_matrix)\n",
    "\n",
    "    # Sort the eigenvalues and eigenvectors based on the values of the eigenvalue\n",
    "    sorted_indices = np.argsort(eigenvalues)[::-1]\n",
    "    lambdas = eigenvalues[sorted_indices]\n",
    "    alphas = eigenvectors[:, sorted_indices]\n",
    "\n",
    "    # Remove eigenvalues and eigenvectors where the eigenvalue is less than the threshold\n",
    "    lambdas = lambdas[lambdas > threshold]\n",
    "    alphas = alphas[:, :lambdas.shape[0]]\n",
    "    \n",
    "    if n_components is None:\n",
    "        n_components = lambdas.shape[0]\n",
    "    else:\n",
    "        n_components = min(lambdas.shape[0], n_components)\n",
    "\n",
    "    return alphas.real[:, :n_components], lambdas.real[:n_components]"
   ]
  },
  {
   "cell_type": "code",
   "execution_count": null,
   "metadata": {},
   "outputs": [],
   "source": [
    "alphas, lambdas = calculate_kernelPCA(train_data, n_components=2)"
   ]
  },
  {
   "cell_type": "code",
   "execution_count": null,
   "metadata": {},
   "outputs": [],
   "source": [
    "def project_data(data_point, data, alphas, gamma=None):\n",
    "    if gamma is None:\n",
    "        gamma = 1 / data.shape[1]\n",
    "    \n",
    "    return np.array([np.sum([\n",
    "        alpha[i] * gaussian_kernel(data_point, data[i], gamma) for i in range(data.shape[0])\n",
    "    ]) for alpha in alphas.T])"
   ]
  },
  {
   "cell_type": "code",
   "execution_count": null,
   "metadata": {},
   "outputs": [],
   "source": [
    "projected_data_points = np.array([\n",
    "    project_data(data_point, train_data, alphas) for data_point in test_data\n",
    "])"
   ]
  },
  {
   "cell_type": "code",
   "execution_count": null,
   "metadata": {},
   "outputs": [],
   "source": [
    "plt.xlabel(f\"Principal Component 1\")\n",
    "plt.ylabel(f\"Principal Component 2\")\n",
    "plt.scatter(projected_data_points[:, 0], projected_data_points[:, 1], c=test_outcome, s=5)\n",
    "plt.show()"
   ]
  }
 ],
 "metadata": {
  "kernelspec": {
   "display_name": "venv",
   "language": "python",
   "name": "python3"
  },
  "language_info": {
   "codemirror_mode": {
    "name": "ipython",
    "version": 3
   },
   "file_extension": ".py",
   "mimetype": "text/x-python",
   "name": "python",
   "nbconvert_exporter": "python",
   "pygments_lexer": "ipython3",
   "version": "3.11.6"
  }
 },
 "nbformat": 4,
 "nbformat_minor": 2
}
