{
 "cells": [
  {
   "cell_type": "markdown",
   "metadata": {},
   "source": [
    "# K Nearest Neighbours (KNN)\n",
    "\n",
    "The purpose of this notebook is to show how PCA works and how to implement it using numpy."
   ]
  },
  {
   "cell_type": "code",
   "execution_count": null,
   "metadata": {},
   "outputs": [],
   "source": [
    "import numpy as np\n",
    "import pandas as pd\n",
    "import matplotlib.pyplot as plt"
   ]
  },
  {
   "cell_type": "markdown",
   "metadata": {},
   "source": [
    "## Loading Data\n",
    "\n",
    "We will be using the [iris dataset](https://www.kaggle.com/datasets/arshid/iris-flower-dataset/data)"
   ]
  },
  {
   "cell_type": "code",
   "execution_count": null,
   "metadata": {},
   "outputs": [],
   "source": [
    "df = pd.read_csv(\"../data/iris.csv\")\n",
    "\n",
    "# Split data into data we will use as our already know points (train) and points we will use to test the accuracy (test)\n",
    "train = df.sample(frac=0.8)\n",
    "test = df.drop(train.index)\n",
    "\n",
    "# Split data up between features and labels\n",
    "train_features = np.array(train.drop([\"species\"], axis=1))\n",
    "train_labels = np.array(train[\"species\"])\n",
    "test_features = np.array(test.drop([\"species\"], axis=1))\n",
    "test_labels = np.array(test[\"species\"])\n",
    "\n",
    "# Scaling data\n",
    "train_features = (train_features - np.mean(train_features, axis=0)) / np.std(train_features, axis=0)\n",
    "test_features = (test_features - np.mean(test_features, axis=0)) / np.std(test_features, axis=0)"
   ]
  },
  {
   "cell_type": "markdown",
   "metadata": {},
   "source": [
    "## Prediction using KNN\n",
    "\n",
    "To predict the class of a data point we will:\n",
    "1. Calculate the distances to every classified point in our dataset (we will be using the euclidian distance)\n",
    "2. Find the k points with the smallest distance from our data point\n",
    "3. Find the modal class of the closest data poins"
   ]
  },
  {
   "cell_type": "code",
   "execution_count": null,
   "metadata": {},
   "outputs": [],
   "source": [
    "def knn_on_sample(data: tuple[np.array, np.array], sample: np.array, k):\n",
    "    data_features = data[0]\n",
    "    \n",
    "    # Calculating the euclidian distance to every point\n",
    "    distances = np.linalg.norm(data_features - sample, axis=1)\n",
    "    \n",
    "    # Find the k closest points\n",
    "    sorted_indices = np.argsort(distances)[:k]\n",
    "    neighbours = data[1][sorted_indices]\n",
    "    \n",
    "    # Return the modal class of the neighbours\n",
    "    labels, counts = np.unique(neighbours, return_counts=True)\n",
    "    return labels[counts.argmax()]"
   ]
  },
  {
   "cell_type": "code",
   "execution_count": null,
   "metadata": {},
   "outputs": [],
   "source": [
    "def knn_on_samples(data: tuple[np.array, np.array], samples: np.array, k):\n",
    "    prediction = np.array([knn_on_sample(data, features, k) for features in samples])\n",
    "    return prediction"
   ]
  },
  {
   "cell_type": "markdown",
   "metadata": {},
   "source": [
    "## Test the Accuracy of the model\n",
    "\n",
    "Using our testing data we will calculate the accuracy of our model"
   ]
  },
  {
   "cell_type": "code",
   "execution_count": null,
   "metadata": {},
   "outputs": [],
   "source": [
    "predictions = knn_on_samples((train_features, train_labels), test_features, 4)\n",
    "\n",
    "# Calculate percentage accuracy\n",
    "accuracy = np.count_nonzero(predictions == test_labels) / test_labels.shape[0] * 100\n",
    "\n",
    "print(f\"Accuracy = {accuracy:.2f}%\")"
   ]
  },
  {
   "cell_type": "markdown",
   "metadata": {},
   "source": [
    "## Visulising classification\n",
    "\n",
    "For use to visualize the data on a 2D graph, we apply PCA to reduce the dimenstionality of the data.\n",
    "\n",
    "For the data points in the test data set we plot them on the graph and then color them green if they were correctly classified and red if they are not.\n",
    "\n",
    "*The code below produces this graph*\n",
    "\n",
    "![KNN Output](../Images/KNNOutput.png)\n",
    "\n",
    "From the graph we can see the point in the purple region have all been classified correctly. The points which have not been label correctly are near the boundary of the blue and yellow data points. When using KNN, points are likely to be miss classified if they are near the border of two different classes."
   ]
  },
  {
   "cell_type": "code",
   "execution_count": null,
   "metadata": {},
   "outputs": [],
   "source": [
    "import sys\n",
    "sys.path.append(\"../\")\n",
    "from PCA.pca import calculate_principal_components, project_onto_components\n",
    "\n",
    "species_map = {\n",
    "    \"Iris-setosa\": 0,\n",
    "    \"Iris-versicolor\": 1,\n",
    "    \"Iris-virginica\": 2,\n",
    "}\n",
    "\n",
    "outcomes = np.array([species_map[x] for x in train_labels])\n",
    "\n",
    "# Calculate principla components and then project data onto principal components\n",
    "components, _ = calculate_principal_components(train_features)\n",
    "train_projections = project_onto_components(train_features, components=components)\n",
    "test_projections = project_onto_components(test_features, components=components)\n",
    "\n",
    "plt.xlabel(f\"Principal Component 1\")\n",
    "plt.ylabel(f\"Principal Component 2\")\n",
    "plt.scatter(train_projections[:, 0], train_projections[:, 1], c=outcomes, s=3)\n",
    "\n",
    "# Colors point based on if they were correctly classified\n",
    "test_colors = np.vectorize(lambda x: \"#00FF00\" if x else \"#FF0000\")(predictions == test_labels)\n",
    "plt.scatter(test_projections[:, 0], test_projections[:, 1], c=test_colors, s=15)\n",
    "\n",
    "plt.show()"
   ]
  }
 ],
 "metadata": {
  "kernelspec": {
   "display_name": "venv",
   "language": "python",
   "name": "python3"
  },
  "language_info": {
   "codemirror_mode": {
    "name": "ipython",
    "version": 3
   },
   "file_extension": ".py",
   "mimetype": "text/x-python",
   "name": "python",
   "nbconvert_exporter": "python",
   "pygments_lexer": "ipython3",
   "version": "3.11.6"
  }
 },
 "nbformat": 4,
 "nbformat_minor": 2
}
