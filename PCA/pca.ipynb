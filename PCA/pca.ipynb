{
 "cells": [
  {
   "cell_type": "markdown",
   "metadata": {},
   "source": [
    "# Principal Component Analysis (PCA)\n",
    "\n",
    "The purpose of this notebook is to show how PCA works and how to implement it using numpy."
   ]
  },
  {
   "cell_type": "code",
   "execution_count": null,
   "metadata": {},
   "outputs": [],
   "source": [
    "import numpy as np\n",
    "import pandas as pd\n",
    "import matplotlib.pyplot as plt"
   ]
  },
  {
   "cell_type": "markdown",
   "metadata": {},
   "source": [
    "## Loading Data\n",
    "\n",
    "We will be using the [iris dataset](https://www.kaggle.com/datasets/arshid/iris-flower-dataset/data)\n",
    "\n",
    "When calculating the principal components we will omit the species column and at the end we will color the points on the reduced dataset based on what species each plant belongs to.\n",
    "\n",
    "We will normilize our data before calculating the principal components."
   ]
  },
  {
   "cell_type": "code",
   "execution_count": null,
   "metadata": {},
   "outputs": [],
   "source": [
    "# Loading our dataset using pandas\n",
    "df = pd.read_csv(\"../data/iris.csv\")\n",
    "\n",
    "# Splitting data\n",
    "outcomes = np.array(df[\"species\"].map({species: i for i, species in enumerate(df[\"species\"].unique())}))\n",
    "data = np.array(df.drop([\"species\"], axis=1).values)\n",
    "\n",
    "# Normilizing data\n",
    "data = (data - np.mean(data, axis=0)) / np.std(data, axis=0)\n",
    "\n",
    "print(f\"Mean of each column: {np.mean(data, axis=0)}\\n\")\n",
    "print(f\"Standard deviation of each column: {np.std(data, axis=0)}\")"
   ]
  },
  {
   "cell_type": "markdown",
   "metadata": {},
   "source": [
    "## Calculate the principal components\n",
    "\n",
    "To calculate the principal components we will:\n",
    "1. Standardize our data\n",
    "2. Calculate the covariance matrix\n",
    "3. Calculate the eigenvalues and eigenvectors\n",
    "4. Sort the eignevalues and eigenvectors based on the size of the eigenvalues\n",
    "5. Truncate the eignevectors based on how many principal components we want\n",
    "6. Square the eigenvalues to get the variance of each principal component"
   ]
  },
  {
   "cell_type": "code",
   "execution_count": null,
   "metadata": {},
   "outputs": [],
   "source": [
    "def calculate_principal_components(X, components=None):\n",
    "    if components is None:\n",
    "        components = X.shape[1]\n",
    "    \n",
    "    # Calculate covariance matrix of rows of X\n",
    "    covariance = np.cov(X, rowvar=False)\n",
    "    \n",
    "    # Compute eigenvalues and eignenvectors of the covariance matrix\n",
    "    eigenvalues, eigenvectors = np.linalg.eig(covariance)\n",
    "    \n",
    "    sorted_indices = np.argsort(eigenvalues)[::-1]\n",
    "    eigenvalues = eigenvalues[sorted_indices]\n",
    "    eigenvectors = eigenvectors[:, sorted_indices]\n",
    "    \n",
    "    # Compute principal components\n",
    "    principal_components = eigenvectors[:, :components]\n",
    "    \n",
    "    # Compute variance of the principal components\n",
    "    variance = np.square(eigenvalues)[:components]\n",
    "    \n",
    "    return principal_components, variance"
   ]
  },
  {
   "cell_type": "code",
   "execution_count": null,
   "metadata": {},
   "outputs": [],
   "source": [
    "def project_onto_components(X, components):\n",
    "    return np.dot(X, components)"
   ]
  },
  {
   "cell_type": "markdown",
   "metadata": {},
   "source": [
    "## Calculate the pricipal components for out dataset"
   ]
  },
  {
   "cell_type": "code",
   "execution_count": null,
   "metadata": {},
   "outputs": [],
   "source": [
    "components, variance = calculate_principal_components(data)\n",
    "variance_percentage = variance / np.sum(variance) * 100"
   ]
  },
  {
   "cell_type": "markdown",
   "metadata": {},
   "source": [
    "## Plot the percentage variance of each principal component\n",
    "\n",
    "The code below produces this graph\n",
    "\n",
    "![Component Contributions](../Images/ComponentContribution.png)\n",
    "\n",
    "\n",
    "From the graph we can see that the first principal component contributes to 90% of the variance in the data and the second principal component contributes 9% of the variance, this means by just using the first two components we account for ~99% of the variance in our data. \n",
    "\n",
    "When we plot the graph we should see clusters where the different species of flower are."
   ]
  },
  {
   "cell_type": "code",
   "execution_count": null,
   "metadata": {},
   "outputs": [],
   "source": [
    "plt.xlabel(\"Principal Component\")\n",
    "plt.ylabel(\"Percentage of variance\")\n",
    "plt.bar(range(1, data.shape[1]+1), variance_percentage, width=0.5)\n",
    "plt.xticks(range(1, data.shape[1]+1))\n",
    "plt.yticks(range(0, 101, 10))\n",
    "plt.show()"
   ]
  },
  {
   "cell_type": "markdown",
   "metadata": {},
   "source": [
    "## Plot Projected data\n",
    "\n",
    "The code below produces this graph\n",
    "\n",
    "![Projected Data](../Images/ProjectedData.png)\n",
    "\n",
    "From the graph we can see three distinct cluster where the three different species are\n"
   ]
  },
  {
   "cell_type": "code",
   "execution_count": null,
   "metadata": {},
   "outputs": [],
   "source": [
    "projections = project_onto_components(data, components=components)\n",
    "\n",
    "plt.xlabel(f\"Principal Component 1 ({variance_percentage[0]:.2f}%)\")\n",
    "plt.ylabel(f\"Principal Component 2 ({variance_percentage[1]:.2f}%)\")\n",
    "plt.scatter(projections[:, 0], projections[:, 1], c=outcomes, s=5)\n",
    "plt.show()"
   ]
  }
 ],
 "metadata": {
  "kernelspec": {
   "display_name": "venv",
   "language": "python",
   "name": "python3"
  },
  "language_info": {
   "codemirror_mode": {
    "name": "ipython",
    "version": 3
   },
   "file_extension": ".py",
   "mimetype": "text/x-python",
   "name": "python",
   "nbconvert_exporter": "python",
   "pygments_lexer": "ipython3",
   "version": "3.11.6"
  }
 },
 "nbformat": 4,
 "nbformat_minor": 2
}
